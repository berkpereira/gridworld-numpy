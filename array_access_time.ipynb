{
 "cells": [
  {
   "attachments": {},
   "cell_type": "markdown",
   "metadata": {},
   "source": [
    "We will probably limit ourselves to looking at array access times in a 13 grid size benchmark environment. In principle, the size of the array should make no difference to read time anyway, but, since we are looking at the grid size = 13 case for MILP solution times in the report, this is a reasonably justifiable choice."
   ]
  },
  {
   "cell_type": "code",
   "execution_count": 145,
   "metadata": {},
   "outputs": [],
   "source": [
    "import numpy as np\n",
    "import pandas as pd\n",
    "import matplotlib.pyplot as plt\n",
    "import fig_specs as fsp\n",
    "# enable interactive plots\n",
    "%matplotlib widget\n",
    "\n",
    "method = 'dp'\n",
    "grid_size = 13\n",
    "ID = 4\n",
    "\n",
    "policy_array_file = f'benchmark-policies/4d/{method}/{grid_size}{ID}_wind_0,9_policy_array.npy'\n",
    "policy_array = np.load(policy_array_file)"
   ]
  },
  {
   "cell_type": "code",
   "execution_count": 160,
   "metadata": {},
   "outputs": [],
   "source": [
    "import time\n",
    "\n",
    "no_samples = 1000000\n",
    "test_state = np.array([10, 0, 3, 3])\n",
    "\n",
    "np_access_times_ns = np.zeros(shape=no_samples)\n",
    "for i in range(no_samples):\n",
    "    st = time.process_time_ns()\n",
    "    policy_array[tuple(test_state)] # remember to remove the assignment, which might add an appreciable (in this context) time penalty\n",
    "    et = time.process_time_ns()\n",
    "    np_access_times_ns[i] = et - st\n",
    "\n",
    "df_access_times_ns = pd.Series(np_access_times_ns)\n",
    "\n",
    "# drop outliers\n",
    "#df_access_times_ns = df_access_times_ns[df_access_times_ns <= df_access_times_ns.quantile(0.99999)]\n"
   ]
  },
  {
   "cell_type": "code",
   "execution_count": 168,
   "metadata": {},
   "outputs": [
    {
     "name": "stdout",
     "output_type": "stream",
     "text": [
      "Number of records with time above or equal to 0 ns: 1000000\n",
      "Number of records with time above or equal to 1000 ns: 773259\n",
      "Number of records with time above or equal to 2000 ns: 220796\n",
      "Number of records with time above or equal to 3000 ns: 629\n",
      "Number of records with time above or equal to 4000 ns: 561\n",
      "Number of records with time above or equal to 5000 ns: 505\n",
      "Number of records with time above or equal to 6000 ns: 454\n",
      "Number of records with time above or equal to 7000 ns: 381\n",
      "Number of records with time above or equal to 8000 ns: 314\n",
      "Number of records with time above or equal to 9000 ns: 275\n"
     ]
    }
   ],
   "source": [
    "for i in range(10):\n",
    "    threshold = i * 1000\n",
    "    print(f'Number of records with time above or equal to {threshold} ns: {df_access_times_ns[df_access_times_ns >= threshold].count()}')"
   ]
  },
  {
   "cell_type": "code",
   "execution_count": 130,
   "metadata": {},
   "outputs": [
    {
     "data": {
      "text/plain": [
       "<AxesSubplot: >"
      ]
     },
     "execution_count": 130,
     "metadata": {},
     "output_type": "execute_result"
    },
    {
     "data": {
      "application/vnd.jupyter.widget-view+json": {
       "model_id": "f3b8cd0f16094ba0b775ec91f33c2f11",
       "version_major": 2,
       "version_minor": 0
      },
      "image/png": "[encoded data removed]",
      "text/html": [
       "\n",
       "            <div style=\"display: inline-block;\">\n",
       "                <div class=\"jupyter-widgets widget-label\" style=\"text-align: center;\">\n",
       "                    Figure\n",
       "                </div>\n",
       "                <img src='data:image/png;base64,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' width=283.52025/>\n",
       "            </div>\n",
       "        "
      ],
      "text/plain": [
       "Canvas(toolbar=Toolbar(toolitems=[('Home', 'Reset original view', 'home', 'home'), ('Back', 'Back to previous …"
      ]
     },
     "metadata": {},
     "output_type": "display_data"
    }
   ],
   "source": [
    "fig, ax = plt.subplots(figsize=(fsp.text_width * fsp.text_width_factor, 1.8))\n",
    "df_access_times_ns.hist(density=True)"
   ]
  },
  {
   "cell_type": "code",
   "execution_count": 131,
   "metadata": {},
   "outputs": [
    {
     "data": {
      "text/plain": [
       "1000.0"
      ]
     },
     "execution_count": 131,
     "metadata": {},
     "output_type": "execute_result"
    }
   ],
   "source": [
    "df_access_times_ns.quantile(0.99)"
   ]
  }
 ],
 "metadata": {
  "kernelspec": {
   "display_name": ".env",
   "language": "python",
   "name": "python3"
  },
  "language_info": {
   "codemirror_mode": {
    "name": "ipython",
    "version": 3
   },
   "file_extension": ".py",
   "mimetype": "text/x-python",
   "name": "python",
   "nbconvert_exporter": "python",
   "pygments_lexer": "ipython3",
   "version": "3.10.5"
  },
  "orig_nbformat": 4
 },
 "nbformat": 4,
 "nbformat_minor": 2
}
